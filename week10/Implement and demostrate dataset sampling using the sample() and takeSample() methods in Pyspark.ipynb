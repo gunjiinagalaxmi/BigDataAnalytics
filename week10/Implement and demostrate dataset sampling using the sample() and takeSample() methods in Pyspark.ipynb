{
 "cells": [
  {
   "cell_type": "code",
   "execution_count": 1,
   "id": "cdc89d01-db69-4575-8921-d4b1a9c83aaa",
   "metadata": {},
   "outputs": [],
   "source": [
    "from pyspark.sql import SparkSession\n",
    "\n"
   ]
  },
  {
   "cell_type": "code",
   "execution_count": 2,
   "id": "19029ec5-5e14-439d-9468-ce8ccf1ccc7a",
   "metadata": {},
   "outputs": [],
   "source": [
    "\n",
    "spark = SparkSession.builder.appName(\"Create DataFrame\").getOrCreate()\n"
   ]
  },
  {
   "cell_type": "code",
   "execution_count": 3,
   "id": "0f1ce75a-0974-4f7c-ba9a-60d7daad98d6",
   "metadata": {},
   "outputs": [],
   "source": [
    "# Step 2: Create data (list of tuples)\n",
    "data = [\n",
    "    (1, \"Alice\", 23, \"F\"),\n",
    "    (2, \"Bob\", 29, \"M\"),\n",
    "    (3, \"Cathy\", 25, \"F\"),\n",
    "    (4, \"David\", 35, \"M\"),\n",
    "    (5, \"Eva\", 28, \"F\")\n",
    "]"
   ]
  },
  {
   "cell_type": "code",
   "execution_count": 4,
   "id": "fd29ef8e-cc5d-4b3b-873d-a3b98b8c5600",
   "metadata": {},
   "outputs": [],
   "source": [
    "columns = [\"ID\", \"Name\", \"Age\", \"Gender\"]"
   ]
  },
  {
   "cell_type": "code",
   "execution_count": 5,
   "id": "340b4ff7-5907-4eae-a32a-acf5a17cbf59",
   "metadata": {},
   "outputs": [],
   "source": [
    "df = spark.createDataFrame(data, columns)"
   ]
  },
  {
   "cell_type": "code",
   "execution_count": 6,
   "id": "39f66120-97b2-456a-b7e9-3d6ba88178e1",
   "metadata": {},
   "outputs": [
    {
     "name": "stdout",
     "output_type": "stream",
     "text": [
      "Schema:\n",
      "root\n",
      " |-- ID: long (nullable = true)\n",
      " |-- Name: string (nullable = true)\n",
      " |-- Age: long (nullable = true)\n",
      " |-- Gender: string (nullable = true)\n",
      "\n"
     ]
    }
   ],
   "source": [
    "print(\"Schema:\")\n",
    "df.printSchema()"
   ]
  },
  {
   "cell_type": "code",
   "execution_count": 7,
   "id": "f45cbe55-7159-48b3-aa44-f722e8e9f75c",
   "metadata": {},
   "outputs": [
    {
     "name": "stdout",
     "output_type": "stream",
     "text": [
      "\n",
      "First few rows:\n",
      "+---+-----+---+------+\n",
      "| ID| Name|Age|Gender|\n",
      "+---+-----+---+------+\n",
      "|  1|Alice| 23|     F|\n",
      "|  2|  Bob| 29|     M|\n",
      "|  3|Cathy| 25|     F|\n",
      "|  4|David| 35|     M|\n",
      "|  5|  Eva| 28|     F|\n",
      "+---+-----+---+------+\n",
      "\n"
     ]
    }
   ],
   "source": [
    "print(\"\\nFirst few rows:\")\n",
    "df.show()"
   ]
  },
  {
   "cell_type": "code",
   "execution_count": 8,
   "id": "c68ffb67-e8c7-4b99-9cdf-b68fd87ede36",
   "metadata": {},
   "outputs": [
    {
     "name": "stdout",
     "output_type": "stream",
     "text": [
      "\n",
      "Column names:\n",
      "['ID', 'Name', 'Age', 'Gender']\n"
     ]
    }
   ],
   "source": [
    "print(\"\\nColumn names:\")\n",
    "print(df.columns)"
   ]
  },
  {
   "cell_type": "code",
   "execution_count": 9,
   "id": "0591f589-757c-4e5d-9553-dc927c32d067",
   "metadata": {},
   "outputs": [
    {
     "name": "stdout",
     "output_type": "stream",
     "text": [
      "\n",
      "Descriptive statistics:\n",
      "+-------+------------------+-----+----------------+------+\n",
      "|summary|                ID| Name|             Age|Gender|\n",
      "+-------+------------------+-----+----------------+------+\n",
      "|  count|                 5|    5|               5|     5|\n",
      "|   mean|               3.0| NULL|            28.0|  NULL|\n",
      "| stddev|1.5811388300841898| NULL|4.58257569495584|  NULL|\n",
      "|    min|                 1|Alice|              23|     F|\n",
      "|    max|                 5|  Eva|              35|     M|\n",
      "+-------+------------------+-----+----------------+------+\n",
      "\n"
     ]
    }
   ],
   "source": [
    "print(\"\\nDescriptive statistics:\")\n",
    "df.describe().show()"
   ]
  },
  {
   "cell_type": "code",
   "execution_count": null,
   "id": "43859a57-d05e-4600-94d5-08fb8eaa5456",
   "metadata": {},
   "outputs": [],
   "source": []
  }
 ],
 "metadata": {
  "kernelspec": {
   "display_name": "Python [conda env:base] *",
   "language": "python",
   "name": "conda-base-py"
  },
  "language_info": {
   "codemirror_mode": {
    "name": "ipython",
    "version": 3
   },
   "file_extension": ".py",
   "mimetype": "text/x-python",
   "name": "python",
   "nbconvert_exporter": "python",
   "pygments_lexer": "ipython3",
   "version": "3.12.7"
  }
 },
 "nbformat": 4,
 "nbformat_minor": 5
}
