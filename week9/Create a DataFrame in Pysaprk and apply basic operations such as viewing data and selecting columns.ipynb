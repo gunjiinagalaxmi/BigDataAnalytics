{
 "cells": [
  {
   "cell_type": "code",
   "execution_count": 1,
   "id": "6161b024-86c5-4cdd-bf19-5d88abea40ca",
   "metadata": {},
   "outputs": [],
   "source": [
    "from pyspark.sql import SparkSession"
   ]
  },
  {
   "cell_type": "code",
   "execution_count": 2,
   "id": "68814b9f-d0cf-4142-ae62-3138ccc43f1b",
   "metadata": {},
   "outputs": [],
   "source": [
    "spark = SparkSession.builder \\\n",
    "    .appName(\"Basic DataFrame Operations\") \\\n",
    "    .getOrCreate()"
   ]
  },
  {
   "cell_type": "code",
   "execution_count": 3,
   "id": "4478fce4-6995-47ea-a2be-af19d4db2309",
   "metadata": {},
   "outputs": [],
   "source": [
    "data = [\n",
    "    (1, \"Alice\", 23, \"New York\", 85),\n",
    "    (2, \"Bob\", 29, \"Los Angeles\", 90),\n",
    "    (3, \"Charlie\", 31, \"Chicago\", 78),\n",
    "    (4, \"David\", 25, \"Houston\", 92),\n",
    "    (5, \"Eva\", 28, \"Phoenix\", 88)\n",
    "]"
   ]
  },
  {
   "cell_type": "code",
   "execution_count": 4,
   "id": "16e16fb8-2389-41fd-9094-7ded42dc2789",
   "metadata": {},
   "outputs": [],
   "source": [
    "columns = [\"id\", \"name\", \"age\", \"city\", \"score\"]"
   ]
  },
  {
   "cell_type": "code",
   "execution_count": 5,
   "id": "71dfdb51-c53e-4729-a35b-ff763bf42717",
   "metadata": {},
   "outputs": [],
   "source": [
    "df = spark.createDataFrame(data, columns)"
   ]
  },
  {
   "cell_type": "code",
   "execution_count": 6,
   "id": "f91d6477-d0ed-4290-8674-4943d6b1d29d",
   "metadata": {},
   "outputs": [
    {
     "name": "stdout",
     "output_type": "stream",
     "text": [
      "Full DataFrame:\n",
      "+---+-------+---+-----------+-----+\n",
      "| id|   name|age|       city|score|\n",
      "+---+-------+---+-----------+-----+\n",
      "|  1|  Alice| 23|   New York|   85|\n",
      "|  2|    Bob| 29|Los Angeles|   90|\n",
      "|  3|Charlie| 31|    Chicago|   78|\n",
      "|  4|  David| 25|    Houston|   92|\n",
      "|  5|    Eva| 28|    Phoenix|   88|\n",
      "+---+-------+---+-----------+-----+\n",
      "\n"
     ]
    }
   ],
   "source": [
    "print(\"Full DataFrame:\")\n",
    "df.show()"
   ]
  },
  {
   "cell_type": "code",
   "execution_count": 7,
   "id": "95e58dc3-5bbd-42f4-b3c3-c75a10ff177a",
   "metadata": {},
   "outputs": [
    {
     "name": "stdout",
     "output_type": "stream",
     "text": [
      "Schema:\n",
      "root\n",
      " |-- id: long (nullable = true)\n",
      " |-- name: string (nullable = true)\n",
      " |-- age: long (nullable = true)\n",
      " |-- city: string (nullable = true)\n",
      " |-- score: long (nullable = true)\n",
      "\n"
     ]
    }
   ],
   "source": [
    "print(\"Schema:\")\n",
    "df.printSchema()"
   ]
  },
  {
   "cell_type": "code",
   "execution_count": 8,
   "id": "5731fa31-1d46-46aa-8069-bd0d1f250e0f",
   "metadata": {},
   "outputs": [
    {
     "name": "stdout",
     "output_type": "stream",
     "text": [
      "Select name and score:\n",
      "+-------+-----+\n",
      "|   name|score|\n",
      "+-------+-----+\n",
      "|  Alice|   85|\n",
      "|    Bob|   90|\n",
      "|Charlie|   78|\n",
      "|  David|   92|\n",
      "|    Eva|   88|\n",
      "+-------+-----+\n",
      "\n"
     ]
    }
   ],
   "source": [
    "print(\"Select name and score:\")\n",
    "df.select(\"name\", \"score\").show()"
   ]
  },
  {
   "cell_type": "code",
   "execution_count": 9,
   "id": "fd81acec-b480-4ce7-93a9-bed6c9a86c98",
   "metadata": {},
   "outputs": [
    {
     "name": "stdout",
     "output_type": "stream",
     "text": [
      "Filter rows with score > 85:\n",
      "+---+-----+---+-----------+-----+\n",
      "| id| name|age|       city|score|\n",
      "+---+-----+---+-----------+-----+\n",
      "|  2|  Bob| 29|Los Angeles|   90|\n",
      "|  4|David| 25|    Houston|   92|\n",
      "|  5|  Eva| 28|    Phoenix|   88|\n",
      "+---+-----+---+-----------+-----+\n",
      "\n"
     ]
    }
   ],
   "source": [
    "print(\"Filter rows with score > 85:\")\n",
    "df.filter(df.score > 85).show()"
   ]
  },
  {
   "cell_type": "code",
   "execution_count": null,
   "id": "180ae0e2-217d-41f0-b7ad-fcd0f1f69a8a",
   "metadata": {},
   "outputs": [],
   "source": []
  }
 ],
 "metadata": {
  "kernelspec": {
   "display_name": "Python [conda env:base] *",
   "language": "python",
   "name": "conda-base-py"
  },
  "language_info": {
   "codemirror_mode": {
    "name": "ipython",
    "version": 3
   },
   "file_extension": ".py",
   "mimetype": "text/x-python",
   "name": "python",
   "nbconvert_exporter": "python",
   "pygments_lexer": "ipython3",
   "version": "3.12.7"
  }
 },
 "nbformat": 4,
 "nbformat_minor": 5
}
